{
 "cells": [
  {
   "cell_type": "code",
   "execution_count": 46,
   "metadata": {},
   "outputs": [],
   "source": [
    "import os \n",
    "import numpy as np \n",
    "from typing import List, Callable, Tuple, Dict\n",
    "import pandas as pd \n",
    "\n",
    "\n",
    "  \n",
    "SEG_MAP_EMPTY = [0, 0, 0, 0, 0, 0, 0, 0, 0, 0, 0]\n",
    "SEG_MAP = {\n",
    "    'Proximal':[1, 0, 0, 0, 0, 0, 0, 0, 0, 0, 0],\n",
    "    'Mid':[0, 1, 0, 0, 0, 0, 0, 0, 0, 0, 0],\n",
    "    'Distal':[0, 0, 1, 0, 0, 0, 0, 0, 0, 0, 0],\n",
    "    'First marginal':[0, 0, 0, 1, 0, 0, 0, 0, 0, 0, 0],\n",
    "    'PDA':[0, 0, 0, 0, 1, 0, 0, 0, 0, 0, 0],\n",
    "    'First diagonal':[0, 0, 0, 0, 0, 1, 0, 0, 0, 0, 0],\n",
    "    'Ramus intermedius':[0, 0, 0, 0, 0, 0, 1, 0, 0, 0, 0],\n",
    "    'Third marginal':[0, 0, 0, 0, 0, 0, 0, 1, 0, 0, 0],\n",
    "    'Second marginal':[0, 0, 0, 0, 0, 0, 0, 0, 1, 0, 0],\n",
    "    'PLV':[0, 0, 0, 0, 0, 0, 0, 0, 0, 1, 0],\n",
    "    'Second diagonal':[0, 0, 0, 0, 0, 0, 0, 0, 0, 0, 1],\n",
    "}\n",
    "\n",
    "ARTERY_MAP_EMPTY = [0,0,0]\n",
    "ARTERY_MAP =  {\n",
    "    'CX': [0,0,1],\n",
    "    'LAD': [0,1,0],\n",
    "    'RCA': [1,0,0],\n",
    "    'RCA-pdaplv': [1,0,0],\n",
    "    'LAD-d1': [0,0,1],\n",
    "    'CX-om1': [0,0,1],\n",
    "    'LAD-d2': [0,1,0]\n",
    "}\n",
    "\n",
    "LESION_TYPE_EMPTY = [0,0,0,0]\n",
    "\n",
    "def artery_segment_to_float(seg: str) -> List[int]:\n",
    "    if pd.isna(seg): return SEG_MAP_EMPTY\n",
    "    elif seg in SEG_MAP:\n",
    "        return SEG_MAP[seg]\n",
    "    else:\n",
    "        raise TypeError(f\"Unknown segment string '{seg}'\")\n",
    "\n",
    "def artery_to_1hot(artery:str) -> List[int]:\n",
    "    if pd.isna(artery): return ARTERY_MAP_EMPTY\n",
    "    elif artery in ARTERY_MAP:\n",
    "        return ARTERY_MAP[artery]\n",
    "    else:\n",
    "        raise TypeError(f\"Unknown artery string '{artery}'\")\n",
    "\n",
    "def lesion_type_to_1hot(lesion_type:float) -> List[int]:\n",
    "    # artery type is always a num between 1 and 4\n",
    "    if pd.isna(lesion_type): return LESION_TYPE_EMPTY\n",
    "    elif lesion_type <= 4.0:\n",
    "        onehot = [0,0,0,0]\n",
    "        onehot[int(lesion_type)-1] = 1\n",
    "        return onehot\n",
    "    else:\n",
    "        raise TypeError(f\"Unknown lesion type '{lesion_type}'\")\n"
   ]
  },
  {
   "cell_type": "code",
   "execution_count": 47,
   "metadata": {},
   "outputs": [
    {
     "name": "stdout",
     "output_type": "stream",
     "text": [
      "['DS', 'FFR', 'Lesion_Length', 'Lesion_Type', 'artery', 'exactSegmentLocation', 'Age', 'HTN', 'Hchol', 'DM_Overall', 'Ren_Ins', 'PVD', 'CVA', 'Prev_MI', 'Prev_PCI', 'Male', 'CAD', 'Smoker']\n",
      "[None, None, None, <function lesion_type_to_1hot at 0x7fe39416ce50>, <function artery_to_1hot at 0x7fe39416ca60>, <function artery_segment_to_float at 0x7fe3941ab790>, None, None, None, None, None, None, None, None, None, None, None, None]\n"
     ]
    }
   ],
   "source": [
    "# the feature list are paired with the feature transforms \n",
    "\n",
    "features = [\"DS\", \"FFR\", \"Lesion_Length\", \"Lesion_Type\", \"artery\", \"exactSegmentLocation\"]\n",
    "feature_transforms = [None, None, None,lesion_type_to_1hot,artery_to_1hot,artery_segment_to_float]\n",
    "\n",
    "CLINICAL_DATA_FEATURES = [\"Age\", \"HTN\", \"Hchol\", \"DM_Overall\", \"Ren_Ins\", \"PVD\", \"CVA\",\n",
    "  \"Prev_MI\", \"Prev_PCI\", \"Male\", \"CAD\", \"Smoker\"]\n",
    "\n",
    "for f in CLINICAL_DATA_FEATURES:\n",
    "    if f not in features:\n",
    "        features.append(f)\n",
    "        feature_transforms.append(None)\n",
    "\n",
    "print(features)\n",
    "print(feature_transforms)\n",
    "\n",
    "\n"
   ]
  },
  {
   "cell_type": "code",
   "execution_count": 48,
   "metadata": {},
   "outputs": [
    {
     "name": "stdout",
     "output_type": "stream",
     "text": [
      "  lesion_id_syntax  Patient  OMT_RegistryFU   FFR  FFR80  OneMinusFFR  MACE  \\\n",
      "0        01-0002_2  01-0002               3  0.83      0         0.17     0   \n",
      "\n",
      "   VOCE  Days_MACE  Days_VOCE  ...  NUR_TVF  NUR_TVF_Days  MI_TVF  \\\n",
      "0     0        707        707  ...        0           709       0   \n",
      "\n",
      "   MI_TVF_Days  CV_TVF  CV_TVF_Days  syntax  syntaxID  artery  \\\n",
      "0          709       0          709     3.0         2     RCA   \n",
      "\n",
      "   exactSegmentLocation  \n",
      "0                   Mid  \n",
      "\n",
      "[1 rows x 60 columns]\n"
     ]
    }
   ],
   "source": [
    "\n",
    "clinical_event_df_filepath='/home/sun/data/fame2_clinical_events_n_patient_data_2year.csv'\n",
    "df = pd.read_csv(clinical_event_df_filepath)  \n",
    "\n",
    "# print(df)\n",
    "\n",
    "fame2_dump_dir='/home/sun/data/FAME2labelling/'\n",
    "\n",
    "#you need to change the lesion_id_syntax for your cases\n",
    "# here i use the 01-0002_2 as the example to extract those clinical information vector \n",
    "\n",
    "lesion_id_syntax='01-0002_2' #patient name_lesion type\n",
    "\n",
    "filtered_data = df[df['lesion_id_syntax'] == lesion_id_syntax]\n",
    "print(filtered_data)\n"
   ]
  },
  {
   "cell_type": "code",
   "execution_count": 49,
   "metadata": {},
   "outputs": [
    {
     "name": "stdout",
     "output_type": "stream",
     "text": [
      "[63.48, 0.83, 39.8, 1, 0, 0, 0, 1, 0, 0, 0, 1, 0, 0, 0, 0, 0, 0, 0, 0, 0, 65, 1, 1.0, 0, 0, 1, 0, 1.0, 1.0, 0, 1, 0]\n"
     ]
    }
   ],
   "source": [
    "def extract_lesion_wide(df_info, features, transforms):\n",
    "    lesion_wide_features, names = [], []\n",
    "\n",
    "    for i in range(len(features)):\n",
    "        \n",
    "        feature = features[i]\n",
    "        transform = transforms[i]\n",
    "        \n",
    "        if transform != None:\n",
    "\n",
    "            # value = transform( getattr(df_info,feature))\n",
    "            value = transform(df_info[feature].tolist()[0])\n",
    "\n",
    "            if isinstance(value, list):\n",
    "                lesion_wide_features.extend(value)\n",
    "                names.extend( [features[i]] * len(value) )\n",
    "            else:\n",
    "                lesion_wide_features.append(value)\n",
    "        else:\n",
    "            value = df_info[feature].tolist()[0]\n",
    "            if pd.isna(value):\n",
    "                value = 0.0\n",
    "            lesion_wide_features.append(value)\n",
    "            names.append(features[i])\n",
    "\n",
    "    return lesion_wide_features, names\n",
    "\n",
    "\n",
    "lesion_wide_features, names = extract_lesion_wide(filtered_data,features,feature_transforms)\n",
    "# print(filtered_data[features[4]].tolist())\n",
    "print(lesion_wide_features)"
   ]
  },
  {
   "cell_type": "code",
   "execution_count": null,
   "metadata": {},
   "outputs": [],
   "source": []
  }
 ],
 "metadata": {
  "kernelspec": {
   "display_name": "pytorch",
   "language": "python",
   "name": "python3"
  },
  "language_info": {
   "codemirror_mode": {
    "name": "ipython",
    "version": 3
   },
   "file_extension": ".py",
   "mimetype": "text/x-python",
   "name": "python",
   "nbconvert_exporter": "python",
   "pygments_lexer": "ipython3",
   "version": "3.9.18"
  }
 },
 "nbformat": 4,
 "nbformat_minor": 2
}
